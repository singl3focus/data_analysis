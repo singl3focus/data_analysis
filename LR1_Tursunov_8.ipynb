{
 "cells": [
  {
   "cell_type": "markdown",
   "metadata": {
    "id": "bri_pAriNFqN"
   },
   "source": [
    "**Цель работы:**\n",
    "\n",
    "Осуществить предварительную обработку данных csv-файла, выявить и устранить проблемы в этих данных."
   ]
  },
  {
   "cell_type": "markdown",
   "metadata": {
    "id": "r_e-GeJmgZ8l"
   },
   "source": [
    "# Загрузка набора данных"
   ]
  },
  {
   "cell_type": "markdown",
   "metadata": {
    "id": "eeq9ZAbSguQS"
   },
   "source": [
    "### Описание предметной области"
   ]
  },
  {
   "cell_type": "markdown",
   "metadata": {
    "id": "XHbH8zNIg0Ib"
   },
   "source": [
    "Вариант №8\n",
    "\n",
    "Набор данных: credit_risk.csv\n",
    "\n",
    "Атрибуты: \\\n",
    "Id — идентификатор \\\n",
    "Age — возраст \\\n",
    "Income — доход \\\n",
    "Home — статус домовладения (Собственный, Ипотека, Аренда) \\\n",
    "Emp_length — стаж работы в годах \\\n",
    "Intent — цель кредита \\ \n",
    "Amount — сумма кредита по заявке \\ \n",
    "Rate — процентная ставка \\\n",
    "Status — статус одобрения кредита \\\n",
    "Percent_income — сумма кредита в процентах от дохода \\\n",
    "Default — не допустил ли заявитель ранее дефолта по кредиту (да, нет) \\\n",
    "Cred_length — длина кредитной истории заявителя"
   ]
  },
  {
   "cell_type": "markdown",
   "metadata": {
    "id": "Lwin9ia7hT1i"
   },
   "source": [
    "### 1.Чтение файла (набора данных)"
   ]
  },
  {
   "cell_type": "code",
   "execution_count": 1,
   "metadata": {
    "id": "a5dYQO5YhOYa"
   },
   "outputs": [],
   "source": [
    "import pandas as pd\n",
    "\n",
    "file = 'credit_risk.csv'\n",
    "df = pd.read_csv(file, sep=',')"
   ]
  },
  {
   "cell_type": "markdown",
   "metadata": {
    "id": "p82p53SvhjLN"
   },
   "source": [
    "### 2. Обзор данных"
   ]
  },
  {
   "cell_type": "markdown",
   "metadata": {
    "id": "eAYzXaLrh-qh"
   },
   "source": [
    "2.1 Вывод первых 20 строк с помощью метода head."
   ]
  },
  {
   "cell_type": "code",
   "execution_count": 2,
   "metadata": {
    "id": "7yMo3VZ_hotx"
   },
   "outputs": [
    {
     "data": {
      "text/html": [
       "<div>\n",
       "<style scoped>\n",
       "    .dataframe tbody tr th:only-of-type {\n",
       "        vertical-align: middle;\n",
       "    }\n",
       "\n",
       "    .dataframe tbody tr th {\n",
       "        vertical-align: top;\n",
       "    }\n",
       "\n",
       "    .dataframe thead th {\n",
       "        text-align: right;\n",
       "    }\n",
       "</style>\n",
       "<table border=\"1\" class=\"dataframe\">\n",
       "  <thead>\n",
       "    <tr style=\"text-align: right;\">\n",
       "      <th></th>\n",
       "      <th>Id</th>\n",
       "      <th>Age</th>\n",
       "      <th>Income</th>\n",
       "      <th>Home</th>\n",
       "      <th>Emp_length</th>\n",
       "      <th>Intent</th>\n",
       "      <th>Amount</th>\n",
       "      <th>Rate</th>\n",
       "      <th>Status</th>\n",
       "      <th>Percent_income</th>\n",
       "      <th>Default</th>\n",
       "      <th>Cred_length</th>\n",
       "    </tr>\n",
       "  </thead>\n",
       "  <tbody>\n",
       "    <tr>\n",
       "      <th>0</th>\n",
       "      <td>0</td>\n",
       "      <td>22.0</td>\n",
       "      <td>59000</td>\n",
       "      <td>RENT</td>\n",
       "      <td>123.0</td>\n",
       "      <td>PERSONAL</td>\n",
       "      <td>35000</td>\n",
       "      <td>16.02</td>\n",
       "      <td>1</td>\n",
       "      <td>0.59</td>\n",
       "      <td>Y</td>\n",
       "      <td>3</td>\n",
       "    </tr>\n",
       "    <tr>\n",
       "      <th>1</th>\n",
       "      <td>1</td>\n",
       "      <td>21.0</td>\n",
       "      <td>9600</td>\n",
       "      <td>OWN</td>\n",
       "      <td>5.0</td>\n",
       "      <td>EDUCATION</td>\n",
       "      <td>1000</td>\n",
       "      <td>11.14</td>\n",
       "      <td>0</td>\n",
       "      <td>0.10</td>\n",
       "      <td>N</td>\n",
       "      <td>2</td>\n",
       "    </tr>\n",
       "    <tr>\n",
       "      <th>2</th>\n",
       "      <td>2</td>\n",
       "      <td>25.0</td>\n",
       "      <td>9600</td>\n",
       "      <td>MORTGAGE</td>\n",
       "      <td>1.0</td>\n",
       "      <td>MEDICAL</td>\n",
       "      <td>5500</td>\n",
       "      <td>12.87</td>\n",
       "      <td>1</td>\n",
       "      <td>0.57</td>\n",
       "      <td>N</td>\n",
       "      <td>3</td>\n",
       "    </tr>\n",
       "    <tr>\n",
       "      <th>3</th>\n",
       "      <td>3</td>\n",
       "      <td>23.0</td>\n",
       "      <td>65500</td>\n",
       "      <td>RENT</td>\n",
       "      <td>4.0</td>\n",
       "      <td>MEDICAL</td>\n",
       "      <td>35000</td>\n",
       "      <td>15.23</td>\n",
       "      <td>1</td>\n",
       "      <td>0.53</td>\n",
       "      <td>N</td>\n",
       "      <td>2</td>\n",
       "    </tr>\n",
       "    <tr>\n",
       "      <th>4</th>\n",
       "      <td>4</td>\n",
       "      <td>24.0</td>\n",
       "      <td>54400</td>\n",
       "      <td>RENT</td>\n",
       "      <td>8.0</td>\n",
       "      <td>MEDICAL</td>\n",
       "      <td>35000</td>\n",
       "      <td>14.27</td>\n",
       "      <td>1</td>\n",
       "      <td>0.55</td>\n",
       "      <td>Y</td>\n",
       "      <td>4</td>\n",
       "    </tr>\n",
       "    <tr>\n",
       "      <th>5</th>\n",
       "      <td>5</td>\n",
       "      <td>21.0</td>\n",
       "      <td>9900</td>\n",
       "      <td>OWN</td>\n",
       "      <td>2.0</td>\n",
       "      <td>VENTURE</td>\n",
       "      <td>2500</td>\n",
       "      <td>7.14</td>\n",
       "      <td>1</td>\n",
       "      <td>0.25</td>\n",
       "      <td>N</td>\n",
       "      <td>2</td>\n",
       "    </tr>\n",
       "    <tr>\n",
       "      <th>6</th>\n",
       "      <td>6</td>\n",
       "      <td>26.0</td>\n",
       "      <td>77100</td>\n",
       "      <td>RENET</td>\n",
       "      <td>8.0</td>\n",
       "      <td>EDUCATION</td>\n",
       "      <td>35000</td>\n",
       "      <td>12.42</td>\n",
       "      <td>1</td>\n",
       "      <td>0.45</td>\n",
       "      <td>N</td>\n",
       "      <td>3</td>\n",
       "    </tr>\n",
       "    <tr>\n",
       "      <th>7</th>\n",
       "      <td>7</td>\n",
       "      <td>24.0</td>\n",
       "      <td>78956</td>\n",
       "      <td>RENT</td>\n",
       "      <td>5.0</td>\n",
       "      <td>MEDICAL</td>\n",
       "      <td>35000</td>\n",
       "      <td>11.11</td>\n",
       "      <td>1</td>\n",
       "      <td>0.44</td>\n",
       "      <td>N</td>\n",
       "      <td>4</td>\n",
       "    </tr>\n",
       "    <tr>\n",
       "      <th>8</th>\n",
       "      <td>8</td>\n",
       "      <td>24.0</td>\n",
       "      <td>83000</td>\n",
       "      <td>RENT</td>\n",
       "      <td>8.0</td>\n",
       "      <td>PERSONAL</td>\n",
       "      <td>35000</td>\n",
       "      <td>8.90</td>\n",
       "      <td>1</td>\n",
       "      <td>0.42</td>\n",
       "      <td>N</td>\n",
       "      <td>2</td>\n",
       "    </tr>\n",
       "    <tr>\n",
       "      <th>9</th>\n",
       "      <td>9</td>\n",
       "      <td>21.0</td>\n",
       "      <td>10000</td>\n",
       "      <td>OWN</td>\n",
       "      <td>6.0</td>\n",
       "      <td>VENTURE</td>\n",
       "      <td>1600</td>\n",
       "      <td>14.74</td>\n",
       "      <td>1</td>\n",
       "      <td>0.16</td>\n",
       "      <td>N</td>\n",
       "      <td>3</td>\n",
       "    </tr>\n",
       "    <tr>\n",
       "      <th>10</th>\n",
       "      <td>10</td>\n",
       "      <td>22.0</td>\n",
       "      <td>85000</td>\n",
       "      <td>RENT</td>\n",
       "      <td>6.0</td>\n",
       "      <td>VENTURE</td>\n",
       "      <td>35000</td>\n",
       "      <td>10.37</td>\n",
       "      <td>1</td>\n",
       "      <td>0.41</td>\n",
       "      <td>N</td>\n",
       "      <td>4</td>\n",
       "    </tr>\n",
       "    <tr>\n",
       "      <th>11</th>\n",
       "      <td>11</td>\n",
       "      <td>21.0</td>\n",
       "      <td>10000</td>\n",
       "      <td>OWN</td>\n",
       "      <td>2.0</td>\n",
       "      <td>HOMEIMPROVEMENT</td>\n",
       "      <td>4500</td>\n",
       "      <td>8.63</td>\n",
       "      <td>1</td>\n",
       "      <td>0.45</td>\n",
       "      <td>N</td>\n",
       "      <td>2</td>\n",
       "    </tr>\n",
       "    <tr>\n",
       "      <th>12</th>\n",
       "      <td>12</td>\n",
       "      <td>23.0</td>\n",
       "      <td>95000</td>\n",
       "      <td>RENT</td>\n",
       "      <td>2.0</td>\n",
       "      <td>VENTURE</td>\n",
       "      <td>35000</td>\n",
       "      <td>7.90</td>\n",
       "      <td>1</td>\n",
       "      <td>0.37</td>\n",
       "      <td>N</td>\n",
       "      <td>2</td>\n",
       "    </tr>\n",
       "    <tr>\n",
       "      <th>13</th>\n",
       "      <td>13</td>\n",
       "      <td>26.0</td>\n",
       "      <td>108160</td>\n",
       "      <td>RENT</td>\n",
       "      <td>4.0</td>\n",
       "      <td>EDUCATION</td>\n",
       "      <td>35000</td>\n",
       "      <td>18.39</td>\n",
       "      <td>1</td>\n",
       "      <td>0.32</td>\n",
       "      <td>N</td>\n",
       "      <td>4</td>\n",
       "    </tr>\n",
       "    <tr>\n",
       "      <th>14</th>\n",
       "      <td>14</td>\n",
       "      <td>23.0</td>\n",
       "      <td>115000</td>\n",
       "      <td>RENT</td>\n",
       "      <td>2.0</td>\n",
       "      <td>EDUCATION</td>\n",
       "      <td>35000</td>\n",
       "      <td>7.90</td>\n",
       "      <td>0</td>\n",
       "      <td>0.30</td>\n",
       "      <td>N</td>\n",
       "      <td>4</td>\n",
       "    </tr>\n",
       "    <tr>\n",
       "      <th>15</th>\n",
       "      <td>15</td>\n",
       "      <td>23.0</td>\n",
       "      <td>500000</td>\n",
       "      <td>MORTGAGE</td>\n",
       "      <td>7.0</td>\n",
       "      <td>DEBTCONSOLIDATION</td>\n",
       "      <td>30000</td>\n",
       "      <td>10.65</td>\n",
       "      <td>0</td>\n",
       "      <td>0.06</td>\n",
       "      <td>N</td>\n",
       "      <td>3</td>\n",
       "    </tr>\n",
       "    <tr>\n",
       "      <th>16</th>\n",
       "      <td>16</td>\n",
       "      <td>23.0</td>\n",
       "      <td>120000</td>\n",
       "      <td>RENT</td>\n",
       "      <td>0.0</td>\n",
       "      <td>EDUCATION</td>\n",
       "      <td>35000</td>\n",
       "      <td>7.90</td>\n",
       "      <td>0</td>\n",
       "      <td>0.29</td>\n",
       "      <td>N</td>\n",
       "      <td>4</td>\n",
       "    </tr>\n",
       "    <tr>\n",
       "      <th>17</th>\n",
       "      <td>17</td>\n",
       "      <td>23.0</td>\n",
       "      <td>92111</td>\n",
       "      <td>RENT</td>\n",
       "      <td>7.0</td>\n",
       "      <td>MEDICAL</td>\n",
       "      <td>35000</td>\n",
       "      <td>20.25</td>\n",
       "      <td>1</td>\n",
       "      <td>0.32</td>\n",
       "      <td>N</td>\n",
       "      <td>4</td>\n",
       "    </tr>\n",
       "    <tr>\n",
       "      <th>18</th>\n",
       "      <td>18</td>\n",
       "      <td>23.0</td>\n",
       "      <td>113000</td>\n",
       "      <td>RENT</td>\n",
       "      <td>8.0</td>\n",
       "      <td>DEBTCONSOLIDATION</td>\n",
       "      <td>35000</td>\n",
       "      <td>18.25</td>\n",
       "      <td>1</td>\n",
       "      <td>0.31</td>\n",
       "      <td>N</td>\n",
       "      <td>4</td>\n",
       "    </tr>\n",
       "    <tr>\n",
       "      <th>19</th>\n",
       "      <td>19</td>\n",
       "      <td>24.0</td>\n",
       "      <td>10800</td>\n",
       "      <td>MORTGAGE</td>\n",
       "      <td>8.0</td>\n",
       "      <td>EDUCATION</td>\n",
       "      <td>1750</td>\n",
       "      <td>10.99</td>\n",
       "      <td>1</td>\n",
       "      <td>0.16</td>\n",
       "      <td>N</td>\n",
       "      <td>2</td>\n",
       "    </tr>\n",
       "  </tbody>\n",
       "</table>\n",
       "</div>"
      ],
      "text/plain": [
       "    Id   Age  Income      Home  Emp_length             Intent  Amount   Rate  \\\n",
       "0    0  22.0   59000      RENT       123.0           PERSONAL   35000  16.02   \n",
       "1    1  21.0    9600       OWN         5.0          EDUCATION    1000  11.14   \n",
       "2    2  25.0    9600  MORTGAGE         1.0            MEDICAL    5500  12.87   \n",
       "3    3  23.0   65500      RENT         4.0            MEDICAL   35000  15.23   \n",
       "4    4  24.0   54400      RENT         8.0            MEDICAL   35000  14.27   \n",
       "5    5  21.0    9900       OWN         2.0            VENTURE    2500   7.14   \n",
       "6    6  26.0   77100     RENET         8.0          EDUCATION   35000  12.42   \n",
       "7    7  24.0   78956      RENT         5.0            MEDICAL   35000  11.11   \n",
       "8    8  24.0   83000      RENT         8.0           PERSONAL   35000   8.90   \n",
       "9    9  21.0   10000       OWN         6.0            VENTURE    1600  14.74   \n",
       "10  10  22.0   85000      RENT         6.0            VENTURE   35000  10.37   \n",
       "11  11  21.0   10000       OWN         2.0    HOMEIMPROVEMENT    4500   8.63   \n",
       "12  12  23.0   95000      RENT         2.0            VENTURE   35000   7.90   \n",
       "13  13  26.0  108160      RENT         4.0          EDUCATION   35000  18.39   \n",
       "14  14  23.0  115000      RENT         2.0          EDUCATION   35000   7.90   \n",
       "15  15  23.0  500000  MORTGAGE         7.0  DEBTCONSOLIDATION   30000  10.65   \n",
       "16  16  23.0  120000      RENT         0.0          EDUCATION   35000   7.90   \n",
       "17  17  23.0   92111      RENT         7.0            MEDICAL   35000  20.25   \n",
       "18  18  23.0  113000      RENT         8.0  DEBTCONSOLIDATION   35000  18.25   \n",
       "19  19  24.0   10800  MORTGAGE         8.0          EDUCATION    1750  10.99   \n",
       "\n",
       "    Status  Percent_income Default  Cred_length  \n",
       "0        1            0.59       Y            3  \n",
       "1        0            0.10       N            2  \n",
       "2        1            0.57       N            3  \n",
       "3        1            0.53       N            2  \n",
       "4        1            0.55       Y            4  \n",
       "5        1            0.25       N            2  \n",
       "6        1            0.45       N            3  \n",
       "7        1            0.44       N            4  \n",
       "8        1            0.42       N            2  \n",
       "9        1            0.16       N            3  \n",
       "10       1            0.41       N            4  \n",
       "11       1            0.45       N            2  \n",
       "12       1            0.37       N            2  \n",
       "13       1            0.32       N            4  \n",
       "14       0            0.30       N            4  \n",
       "15       0            0.06       N            3  \n",
       "16       0            0.29       N            4  \n",
       "17       1            0.32       N            4  \n",
       "18       1            0.31       N            4  \n",
       "19       1            0.16       N            2  "
      ]
     },
     "execution_count": 2,
     "metadata": {},
     "output_type": "execute_result"
    }
   ],
   "source": [
    "# применить метод head\n",
    "df.head(20)\n"
   ]
  },
  {
   "cell_type": "markdown",
   "metadata": {
    "id": "Ze-lXxLMhpWv"
   },
   "source": [
    "2.2 Оценка данных с помощью метода info."
   ]
  },
  {
   "cell_type": "code",
   "execution_count": 3,
   "metadata": {
    "id": "bjhngmaLiGM-"
   },
   "outputs": [
    {
     "name": "stdout",
     "output_type": "stream",
     "text": [
      "<class 'pandas.core.frame.DataFrame'>\n",
      "RangeIndex: 652 entries, 0 to 651\n",
      "Data columns (total 12 columns):\n",
      " #   Column          Non-Null Count  Dtype  \n",
      "---  ------          --------------  -----  \n",
      " 0   Id              652 non-null    int64  \n",
      " 1   Age             652 non-null    float64\n",
      " 2   Income          652 non-null    int64  \n",
      " 3   Home            652 non-null    object \n",
      " 4   Emp_length      643 non-null    float64\n",
      " 5   Intent          652 non-null    object \n",
      " 6   Amount          652 non-null    int64  \n",
      " 7   Rate            586 non-null    float64\n",
      " 8   Status          652 non-null    int64  \n",
      " 9   Percent_income  652 non-null    float64\n",
      " 10  Default         652 non-null    object \n",
      " 11  Cred_length     652 non-null    int64  \n",
      "dtypes: float64(4), int64(5), object(3)\n",
      "memory usage: 61.3+ KB\n"
     ]
    }
   ],
   "source": [
    "# выполнит метод info\n",
    "df.info()"
   ]
  },
  {
   "cell_type": "markdown",
   "metadata": {
    "id": "06PDq9DAiMAY"
   },
   "source": [
    "2.3 Оценка данных с помощью метода describe."
   ]
  },
  {
   "cell_type": "code",
   "execution_count": 4,
   "metadata": {
    "id": "cTVFwzO1jQfN"
   },
   "outputs": [
    {
     "data": {
      "text/html": [
       "<div>\n",
       "<style scoped>\n",
       "    .dataframe tbody tr th:only-of-type {\n",
       "        vertical-align: middle;\n",
       "    }\n",
       "\n",
       "    .dataframe tbody tr th {\n",
       "        vertical-align: top;\n",
       "    }\n",
       "\n",
       "    .dataframe thead th {\n",
       "        text-align: right;\n",
       "    }\n",
       "</style>\n",
       "<table border=\"1\" class=\"dataframe\">\n",
       "  <thead>\n",
       "    <tr style=\"text-align: right;\">\n",
       "      <th></th>\n",
       "      <th>Id</th>\n",
       "      <th>Age</th>\n",
       "      <th>Income</th>\n",
       "      <th>Emp_length</th>\n",
       "      <th>Amount</th>\n",
       "      <th>Rate</th>\n",
       "      <th>Status</th>\n",
       "      <th>Percent_income</th>\n",
       "      <th>Cred_length</th>\n",
       "    </tr>\n",
       "  </thead>\n",
       "  <tbody>\n",
       "    <tr>\n",
       "      <th>count</th>\n",
       "      <td>652.000000</td>\n",
       "      <td>652.000000</td>\n",
       "      <td>652.000000</td>\n",
       "      <td>643.000000</td>\n",
       "      <td>652.000000</td>\n",
       "      <td>586.000000</td>\n",
       "      <td>652.000000</td>\n",
       "      <td>652.000000</td>\n",
       "      <td>652.000000</td>\n",
       "    </tr>\n",
       "    <tr>\n",
       "      <th>mean</th>\n",
       "      <td>325.495399</td>\n",
       "      <td>24.285276</td>\n",
       "      <td>90008.855828</td>\n",
       "      <td>4.601866</td>\n",
       "      <td>18800.996933</td>\n",
       "      <td>12.289471</td>\n",
       "      <td>0.601227</td>\n",
       "      <td>0.279831</td>\n",
       "      <td>3.012270</td>\n",
       "    </tr>\n",
       "    <tr>\n",
       "      <th>std</th>\n",
       "      <td>188.352535</td>\n",
       "      <td>7.841061</td>\n",
       "      <td>69530.312525</td>\n",
       "      <td>7.281616</td>\n",
       "      <td>9152.896250</td>\n",
       "      <td>3.272772</td>\n",
       "      <td>0.490022</td>\n",
       "      <td>0.150231</td>\n",
       "      <td>0.808843</td>\n",
       "    </tr>\n",
       "    <tr>\n",
       "      <th>min</th>\n",
       "      <td>0.000000</td>\n",
       "      <td>21.000000</td>\n",
       "      <td>9600.000000</td>\n",
       "      <td>0.000000</td>\n",
       "      <td>1000.000000</td>\n",
       "      <td>5.420000</td>\n",
       "      <td>0.000000</td>\n",
       "      <td>0.010000</td>\n",
       "      <td>2.000000</td>\n",
       "    </tr>\n",
       "    <tr>\n",
       "      <th>25%</th>\n",
       "      <td>162.750000</td>\n",
       "      <td>23.000000</td>\n",
       "      <td>44000.000000</td>\n",
       "      <td>2.000000</td>\n",
       "      <td>10000.000000</td>\n",
       "      <td>10.250000</td>\n",
       "      <td>0.000000</td>\n",
       "      <td>0.160000</td>\n",
       "      <td>2.000000</td>\n",
       "    </tr>\n",
       "    <tr>\n",
       "      <th>50%</th>\n",
       "      <td>325.500000</td>\n",
       "      <td>24.000000</td>\n",
       "      <td>69998.000000</td>\n",
       "      <td>4.000000</td>\n",
       "      <td>21850.000000</td>\n",
       "      <td>12.180000</td>\n",
       "      <td>1.000000</td>\n",
       "      <td>0.280000</td>\n",
       "      <td>3.000000</td>\n",
       "    </tr>\n",
       "    <tr>\n",
       "      <th>75%</th>\n",
       "      <td>488.250000</td>\n",
       "      <td>25.000000</td>\n",
       "      <td>128499.000000</td>\n",
       "      <td>7.000000</td>\n",
       "      <td>25000.000000</td>\n",
       "      <td>14.720000</td>\n",
       "      <td>1.000000</td>\n",
       "      <td>0.380000</td>\n",
       "      <td>4.000000</td>\n",
       "    </tr>\n",
       "    <tr>\n",
       "      <th>max</th>\n",
       "      <td>649.000000</td>\n",
       "      <td>144.000000</td>\n",
       "      <td>500000.000000</td>\n",
       "      <td>123.000000</td>\n",
       "      <td>35000.000000</td>\n",
       "      <td>21.210000</td>\n",
       "      <td>1.000000</td>\n",
       "      <td>0.830000</td>\n",
       "      <td>4.000000</td>\n",
       "    </tr>\n",
       "  </tbody>\n",
       "</table>\n",
       "</div>"
      ],
      "text/plain": [
       "               Id         Age         Income  Emp_length        Amount  \\\n",
       "count  652.000000  652.000000     652.000000  643.000000    652.000000   \n",
       "mean   325.495399   24.285276   90008.855828    4.601866  18800.996933   \n",
       "std    188.352535    7.841061   69530.312525    7.281616   9152.896250   \n",
       "min      0.000000   21.000000    9600.000000    0.000000   1000.000000   \n",
       "25%    162.750000   23.000000   44000.000000    2.000000  10000.000000   \n",
       "50%    325.500000   24.000000   69998.000000    4.000000  21850.000000   \n",
       "75%    488.250000   25.000000  128499.000000    7.000000  25000.000000   \n",
       "max    649.000000  144.000000  500000.000000  123.000000  35000.000000   \n",
       "\n",
       "             Rate      Status  Percent_income  Cred_length  \n",
       "count  586.000000  652.000000      652.000000   652.000000  \n",
       "mean    12.289471    0.601227        0.279831     3.012270  \n",
       "std      3.272772    0.490022        0.150231     0.808843  \n",
       "min      5.420000    0.000000        0.010000     2.000000  \n",
       "25%     10.250000    0.000000        0.160000     2.000000  \n",
       "50%     12.180000    1.000000        0.280000     3.000000  \n",
       "75%     14.720000    1.000000        0.380000     4.000000  \n",
       "max     21.210000    1.000000        0.830000     4.000000  "
      ]
     },
     "execution_count": 4,
     "metadata": {},
     "output_type": "execute_result"
    }
   ],
   "source": [
    "# оцените числовые столбцы с помощью describe\n",
    "df.describe()"
   ]
  },
  {
   "cell_type": "markdown",
   "metadata": {
    "id": "oOZUrZGuiGqc"
   },
   "source": [
    "\n",
    "---\n",
    "\n",
    "**Выводы**:\n",
    "- Id - кол-во non-null 652 значений, а max id - 649, значит какой-то инремент id пропущен\n",
    "- Age - максимальный возраст - 144 года, что не ествественно\n",
    "- Income - средний доход около 90000\n",
    "- Emp_length - 50 персинтиль / медиана стажа 4, а макс. стаж - 123, что не ествественно\n",
    "- Amount - сумма кредита варируется от 1000 до 35000\n",
    "- Rate - 75% клиентов взяли кредит по ставке меньше 14,72%\n",
    "- Status - 652 строки имеют non-null статус\n",
    "- Percent_income - макс. сумма кредита в процентах от дохода составила 0,83\n",
    "- Cred_lenght - в среднем длина кредитной истории клиента равна 3\n",
    "\n",
    " ---\n"
   ]
  },
  {
   "cell_type": "markdown",
   "metadata": {
    "id": "JTbo0IGDiHxn"
   },
   "source": [
    " 2.4 Оценка названий столбцов"
   ]
  },
  {
   "cell_type": "code",
   "execution_count": 5,
   "metadata": {
    "id": "9NEyi2Odik3e"
   },
   "outputs": [
    {
     "data": {
      "text/plain": [
       "Index(['Id', 'Age', 'Income', 'Home', 'Emp_length', 'Intent', 'Amount', 'Rate',\n",
       "       'Status', 'Percent_income', 'Default', 'Cred_length'],\n",
       "      dtype='object')"
      ]
     },
     "execution_count": 5,
     "metadata": {},
     "output_type": "execute_result"
    }
   ],
   "source": [
    "# Вывести на экран названия столбцов с помощью df.columns. Выявить проблемы с названиями, если они есть. При необходимости переименовать столбцы. Если проблемы не обнаружены также дать пояснения.\n",
    "df.columns"
   ]
  },
  {
   "cell_type": "code",
   "execution_count": 6,
   "metadata": {
    "id": "QSJBLl4qjjP8"
   },
   "outputs": [
    {
     "data": {
      "text/plain": [
       "Index(['id', 'age', 'income', 'home', 'emp_length', 'intent', 'amount', 'rate',\n",
       "       'status', 'percent_income', 'default', 'cred_length'],\n",
       "      dtype='object')"
      ]
     },
     "execution_count": 6,
     "metadata": {},
     "output_type": "execute_result"
    }
   ],
   "source": [
    "# переименование при необходимости\n",
    "df.columns = df.columns.str.lower()\n",
    "df.columns"
   ]
  },
  {
   "cell_type": "markdown",
   "metadata": {},
   "source": [
    "**Пояснения**:\n",
    "с неймингом проблем не было, но хорошей практикой считается наименование в lower кейсе, поэтому названия были приведены к соотвествующему кейсу"
   ]
  },
  {
   "cell_type": "markdown",
   "metadata": {
    "id": "V0tLQcyrjnA_"
   },
   "source": [
    "### 3. Проверка пропусков"
   ]
  },
  {
   "cell_type": "code",
   "execution_count": 7,
   "metadata": {},
   "outputs": [],
   "source": [
    "df_cleaned = df.copy()"
   ]
  },
  {
   "cell_type": "code",
   "execution_count": 8,
   "metadata": {
    "id": "xuTz-Avjj9AW"
   },
   "outputs": [
    {
     "data": {
      "text/plain": [
       "id                0\n",
       "age               0\n",
       "income            0\n",
       "home              0\n",
       "emp_length        0\n",
       "intent            0\n",
       "amount            0\n",
       "rate              0\n",
       "status            0\n",
       "percent_income    0\n",
       "default           0\n",
       "cred_length       0\n",
       "dtype: int64"
      ]
     },
     "execution_count": 8,
     "metadata": {},
     "output_type": "execute_result"
    }
   ],
   "source": [
    "# Проверить данные на наличие пропусков и устранить их, если они есть (пропуски необходимо либо удалить, либо заменить каким-то значением).\n",
    "df_cleaned.isna().sum()\n",
    "df_cleaned = df_cleaned.dropna(subset=['emp_length'])\n",
    "df_cleaned['rate'] = df_cleaned['rate'].fillna(df_cleaned['rate'].median())\n",
    "df_cleaned.isna().sum()"
   ]
  },
  {
   "cell_type": "markdown",
   "metadata": {
    "id": "efZ7vgSVkPQH"
   },
   "source": [
    "\n",
    "---\n",
    "\n",
    "**Пояснения**:\n",
    "- Удалим 9 строк с emp_length, 1,4% данных (малоекол-во, можно удалить).\n",
    "- Заменим 66 строк по rate медианой (~12.2%), т.к медиана отражает «типичное значение» и не портит статистику.\n",
    " ---"
   ]
  },
  {
   "cell_type": "markdown",
   "metadata": {
    "id": "kkyrXXHikEXk"
   },
   "source": [
    "### 4. Проверка дубликатов"
   ]
  },
  {
   "cell_type": "markdown",
   "metadata": {
    "id": "ImqHvr3okIQ6"
   },
   "source": [
    "#### Проверка явных дубликатов"
   ]
  },
  {
   "cell_type": "code",
   "execution_count": 9,
   "metadata": {
    "id": "qu1oh-e5lDZ1"
   },
   "outputs": [
    {
     "data": {
      "text/html": [
       "<div>\n",
       "<style scoped>\n",
       "    .dataframe tbody tr th:only-of-type {\n",
       "        vertical-align: middle;\n",
       "    }\n",
       "\n",
       "    .dataframe tbody tr th {\n",
       "        vertical-align: top;\n",
       "    }\n",
       "\n",
       "    .dataframe thead th {\n",
       "        text-align: right;\n",
       "    }\n",
       "</style>\n",
       "<table border=\"1\" class=\"dataframe\">\n",
       "  <thead>\n",
       "    <tr style=\"text-align: right;\">\n",
       "      <th></th>\n",
       "      <th>id</th>\n",
       "      <th>age</th>\n",
       "      <th>income</th>\n",
       "      <th>home</th>\n",
       "      <th>emp_length</th>\n",
       "      <th>intent</th>\n",
       "      <th>amount</th>\n",
       "      <th>rate</th>\n",
       "      <th>status</th>\n",
       "      <th>percent_income</th>\n",
       "      <th>default</th>\n",
       "      <th>cred_length</th>\n",
       "    </tr>\n",
       "  </thead>\n",
       "  <tbody>\n",
       "    <tr>\n",
       "      <th>650</th>\n",
       "      <td>649</td>\n",
       "      <td>23.0</td>\n",
       "      <td>58800</td>\n",
       "      <td>RENT</td>\n",
       "      <td>7.0</td>\n",
       "      <td>DEBTCONSOLIDATION</td>\n",
       "      <td>20000</td>\n",
       "      <td>7.66</td>\n",
       "      <td>1</td>\n",
       "      <td>0.34</td>\n",
       "      <td>N</td>\n",
       "      <td>3</td>\n",
       "    </tr>\n",
       "    <tr>\n",
       "      <th>651</th>\n",
       "      <td>649</td>\n",
       "      <td>23.0</td>\n",
       "      <td>58800</td>\n",
       "      <td>RENT</td>\n",
       "      <td>7.0</td>\n",
       "      <td>DEBTCONSOLIDATION</td>\n",
       "      <td>20000</td>\n",
       "      <td>7.66</td>\n",
       "      <td>1</td>\n",
       "      <td>0.34</td>\n",
       "      <td>N</td>\n",
       "      <td>3</td>\n",
       "    </tr>\n",
       "  </tbody>\n",
       "</table>\n",
       "</div>"
      ],
      "text/plain": [
       "      id   age  income  home  emp_length             intent  amount  rate  \\\n",
       "650  649  23.0   58800  RENT         7.0  DEBTCONSOLIDATION   20000  7.66   \n",
       "651  649  23.0   58800  RENT         7.0  DEBTCONSOLIDATION   20000  7.66   \n",
       "\n",
       "     status  percent_income default  cred_length  \n",
       "650       1            0.34       N            3  \n",
       "651       1            0.34       N            3  "
      ]
     },
     "execution_count": 9,
     "metadata": {},
     "output_type": "execute_result"
    }
   ],
   "source": [
    "df_cleaned[df_cleaned.duplicated()]"
   ]
  },
  {
   "cell_type": "code",
   "execution_count": 10,
   "metadata": {
    "id": "ntArgvChkK26"
   },
   "outputs": [
    {
     "data": {
      "text/plain": [
       "np.int64(0)"
      ]
     },
     "execution_count": 10,
     "metadata": {},
     "output_type": "execute_result"
    }
   ],
   "source": [
    "# удалите дубликаты, если они есть\n",
    "df_cleaned = df_cleaned.drop_duplicates().reset_index(drop=True)\n",
    "df_cleaned.duplicated().sum()"
   ]
  },
  {
   "cell_type": "markdown",
   "metadata": {
    "id": "VeHTMcOmkLSw"
   },
   "source": [
    "#### Проверка неявных дубликатов"
   ]
  },
  {
   "cell_type": "code",
   "execution_count": 11,
   "metadata": {
    "id": "-uOPKHlVlGo8"
   },
   "outputs": [
    {
     "name": "stdout",
     "output_type": "stream",
     "text": [
      "age \n",
      " [ 22.  21.  25.  23.  24.  26. 144. 123.]\n",
      "home \n",
      " ['RENT' 'OWN' 'MORTGAGE' 'RENET' 'OTHER']\n",
      "emp_length \n",
      " [123.   5.   1.   4.   8.   2.   6.   7.   0.   9.   3.  10.  11.]\n",
      "intent \n",
      " ['PERSONAL' 'EDUCATION' 'MEDICAL' 'VENTURE' 'HOMEIMPROVEMENT'\n",
      " 'DEBTCONSOLIDATION']\n",
      "status \n",
      " [1 0]\n",
      "default \n",
      " ['Y' 'N' 'No']\n",
      "cred_length \n",
      " [3 2 4]\n"
     ]
    }
   ],
   "source": [
    "unique_c = ['age', 'home', 'emp_length', 'intent', 'status', 'default', 'cred_length']\n",
    "for i in unique_c:\n",
    "  print(i,'\\n', df_cleaned[i].unique())"
   ]
  },
  {
   "cell_type": "code",
   "execution_count": 12,
   "metadata": {},
   "outputs": [
    {
     "name": "stdout",
     "output_type": "stream",
     "text": [
      "age\n",
      "24.0     137\n",
      "23.0     132\n",
      "25.0     130\n",
      "22.0     109\n",
      "26.0      98\n",
      "21.0      43\n",
      "144.0      2\n",
      "123.0      1\n",
      "Name: count, dtype: int64\n",
      "home\n",
      "RENT        415\n",
      "MORTGAGE    136\n",
      "OWN          98\n",
      "OTHER         2\n",
      "RENET         1\n",
      "Name: count, dtype: int64\n",
      "emp_length\n",
      "0.0      91\n",
      "2.0      76\n",
      "3.0      70\n",
      "5.0      64\n",
      "6.0      61\n",
      "1.0      60\n",
      "7.0      58\n",
      "4.0      46\n",
      "8.0      46\n",
      "9.0      45\n",
      "10.0     22\n",
      "123.0     2\n",
      "11.0      2\n",
      "Name: count, dtype: int64\n",
      "intent\n",
      "EDUCATION            145\n",
      "VENTURE              117\n",
      "PERSONAL             111\n",
      "MEDICAL              107\n",
      "DEBTCONSOLIDATION    104\n",
      "HOMEIMPROVEMENT       68\n",
      "Name: count, dtype: int64\n",
      "status\n",
      "1    392\n",
      "0    260\n",
      "Name: count, dtype: int64\n",
      "default\n",
      "N     499\n",
      "Y     150\n",
      "No      3\n",
      "Name: count, dtype: int64\n",
      "cred_length\n",
      "3    226\n",
      "4    217\n",
      "2    209\n",
      "Name: count, dtype: int64\n"
     ]
    }
   ],
   "source": [
    "for i in unique_c:\n",
    "  print(df[i].value_counts())"
   ]
  },
  {
   "cell_type": "code",
   "execution_count": 13,
   "metadata": {
    "id": "89tMFEQ2k_M7"
   },
   "outputs": [
    {
     "name": "stdout",
     "output_type": "stream",
     "text": [
      "age \n",
      " [ 22.  21.  25.  23.  24.  26. 144. 123.]\n",
      "home \n",
      " ['RENT' 'OWN' 'MORTGAGE' 'OTHER']\n",
      "emp_length \n",
      " [123.   5.   1.   4.   8.   2.   6.   7.   0.   9.   3.  10.  11.]\n",
      "intent \n",
      " ['PERSONAL' 'EDUCATION' 'MEDICAL' 'VENTURE' 'HOMEIMPROVEMENT'\n",
      " 'DEBTCONSOLIDATION']\n",
      "status \n",
      " [1 0]\n",
      "default \n",
      " ['Y' 'N']\n",
      "cred_length \n",
      " [3 2 4]\n"
     ]
    }
   ],
   "source": [
    "# удалите дубликаты, если они есть\n",
    "df_cleaned['home'] = df_cleaned['home'].replace('RENET', 'RENT') # исправление типа жилья\n",
    "df_cleaned['default'] = df_cleaned['default'].replace('No', 'N') # исправление категории дефолта\n",
    "\n",
    "for i in unique_c:\n",
    "  print(i,'\\n', df_cleaned[i].unique())"
   ]
  },
  {
   "cell_type": "markdown",
   "metadata": {
    "id": "GMcnDpOmlKhU"
   },
   "source": [
    "---\n",
    "\n",
    "**Пояснения:**\n",
    "Мы обнаружили и исправили неявные дубликаты:\n",
    "- home - опечатка \"RENET\";\n",
    "- default - смешение категорий (No и N);\n",
    " ---"
   ]
  },
  {
   "cell_type": "markdown",
   "metadata": {
    "id": "md9GhfYMlbi7"
   },
   "source": [
    "### 5. Провека типов данных"
   ]
  },
  {
   "cell_type": "code",
   "execution_count": 14,
   "metadata": {
    "id": "lXTroENaluCW"
   },
   "outputs": [],
   "source": [
    "df_cleaned.dtypes\n",
    "\n",
    "df_cleaned['age'] = df_cleaned['age'].astype(int)\n",
    "df_cleaned['emp_length'] = df_cleaned['emp_length'].astype(int)\n",
    "\n",
    "df_cleaned['home'] = df_cleaned['home'].astype('category')\n",
    "df_cleaned['intent'] = df_cleaned['intent'].astype('category')\n",
    "df_cleaned['default'] = df_cleaned['default'].astype('category')\n",
    "df_cleaned['status'] = df_cleaned['status'].astype('category')"
   ]
  },
  {
   "cell_type": "code",
   "execution_count": 15,
   "metadata": {
    "id": "WXhXgu29lop3"
   },
   "outputs": [
    {
     "data": {
      "text/plain": [
       "id                   int64\n",
       "age                  int64\n",
       "income               int64\n",
       "home              category\n",
       "emp_length           int64\n",
       "intent            category\n",
       "amount               int64\n",
       "rate               float64\n",
       "status            category\n",
       "percent_income     float64\n",
       "default           category\n",
       "cred_length          int64\n",
       "dtype: object"
      ]
     },
     "execution_count": 15,
     "metadata": {},
     "output_type": "execute_result"
    }
   ],
   "source": [
    "# Проверьте типы данных, при необходимости измените типы данных, чтобы они соответствовали действительности.\n",
    "df_cleaned.dtypes"
   ]
  },
  {
   "cell_type": "markdown",
   "metadata": {
    "id": "DPDBNN4dlx7W"
   },
   "source": [
    "---\n",
    "\n",
    "**Пояснения**\n",
    "Некоторые признаки были определены неверно:\n",
    "age и emp_length были записаны как float64, должны быть целыми числами;\n",
    "home, intent, default и status определены как object или int64, но являются категориальными.\n",
    "\n",
    "Типы данных были приведены в соответствие\n",
    "\n",
    " ---"
   ]
  },
  {
   "cell_type": "markdown",
   "metadata": {
    "id": "lzr0SgqlnmHy"
   },
   "source": [
    "### 6. Группировка данных"
   ]
  },
  {
   "cell_type": "markdown",
   "metadata": {
    "id": "QG_dbwzfmZoS"
   },
   "source": [
    "#### Задание 1"
   ]
  },
  {
   "cell_type": "markdown",
   "metadata": {
    "id": "CyCKTB4DmciW"
   },
   "source": [
    "*`Группировка - статус домовладения (home) по количеству дефолтов\n",
    "(default) . Р`*"
   ]
  },
  {
   "cell_type": "code",
   "execution_count": 16,
   "metadata": {
    "id": "tp8Bl1gumYlI"
   },
   "outputs": [
    {
     "data": {
      "text/plain": [
       "home      default\n",
       "MORTGAGE  N          102\n",
       "          Y           28\n",
       "OTHER     Y            2\n",
       "OWN       N           83\n",
       "          Y           13\n",
       "RENT      N          307\n",
       "          Y          106\n",
       "Name: id, dtype: int64"
      ]
     },
     "execution_count": 16,
     "metadata": {},
     "output_type": "execute_result"
    }
   ],
   "source": [
    "df_cleaned.groupby(['home', 'default'], observed=True)['id'].count()"
   ]
  },
  {
   "cell_type": "markdown",
   "metadata": {
    "id": "jLmhNuq0mms3"
   },
   "source": [
    "истории дефолта."
   ]
  },
  {
   "cell_type": "markdown",
   "metadata": {
    "id": "HCyyeAu6ne7a"
   },
   "source": [
    "**`Этот код группирует наших клиентов по двум признакам: по типу жилья (home) и по тому, был ли у них дефолт в прошлом (default). Потом он просто считает, сколько человек (записей id) попадает в каждую такую комбинацию. Мы видим, сколько людей с разным жилищным статусом портили свою кредитную историю в прошлом.`**"
   ]
  },
  {
   "cell_type": "markdown",
   "metadata": {
    "id": "j0isGCzEne7a"
   },
   "source": [
    "#### Задание 2"
   ]
  },
  {
   "cell_type": "markdown",
   "metadata": {
    "id": "kE2vLBWbne7a"
   },
   "source": [
    "*`: Группировка - цель кредита (intent) по количеству статуса\n",
    "домовладения (home). Создать датафрейм. Переименовать столбец с количеством\n",
    "Лабораторная работа 1 Предварительный анализ данных 28\n",
    "в “сount”. Отсортировать по убыванию столбца “count”`*"
   ]
  },
  {
   "cell_type": "code",
   "execution_count": 25,
   "metadata": {
    "id": "ttn78Zaene7a"
   },
   "outputs": [
    {
     "data": {
      "text/html": [
       "<div>\n",
       "<style scoped>\n",
       "    .dataframe tbody tr th:only-of-type {\n",
       "        vertical-align: middle;\n",
       "    }\n",
       "\n",
       "    .dataframe tbody tr th {\n",
       "        vertical-align: top;\n",
       "    }\n",
       "\n",
       "    .dataframe thead th {\n",
       "        text-align: right;\n",
       "    }\n",
       "</style>\n",
       "<table border=\"1\" class=\"dataframe\">\n",
       "  <thead>\n",
       "    <tr style=\"text-align: right;\">\n",
       "      <th></th>\n",
       "      <th>intent</th>\n",
       "      <th>home</th>\n",
       "      <th>count</th>\n",
       "    </tr>\n",
       "  </thead>\n",
       "  <tbody>\n",
       "    <tr>\n",
       "      <th>0</th>\n",
       "      <td>EDUCATION</td>\n",
       "      <td>RENT</td>\n",
       "      <td>94</td>\n",
       "    </tr>\n",
       "    <tr>\n",
       "      <th>1</th>\n",
       "      <td>DEBTCONSOLIDATION</td>\n",
       "      <td>RENT</td>\n",
       "      <td>72</td>\n",
       "    </tr>\n",
       "    <tr>\n",
       "      <th>2</th>\n",
       "      <td>MEDICAL</td>\n",
       "      <td>RENT</td>\n",
       "      <td>70</td>\n",
       "    </tr>\n",
       "    <tr>\n",
       "      <th>3</th>\n",
       "      <td>VENTURE</td>\n",
       "      <td>RENT</td>\n",
       "      <td>70</td>\n",
       "    </tr>\n",
       "    <tr>\n",
       "      <th>4</th>\n",
       "      <td>PERSONAL</td>\n",
       "      <td>RENT</td>\n",
       "      <td>68</td>\n",
       "    </tr>\n",
       "    <tr>\n",
       "      <th>5</th>\n",
       "      <td>HOMEIMPROVEMENT</td>\n",
       "      <td>RENT</td>\n",
       "      <td>39</td>\n",
       "    </tr>\n",
       "    <tr>\n",
       "      <th>6</th>\n",
       "      <td>EDUCATION</td>\n",
       "      <td>MORTGAGE</td>\n",
       "      <td>32</td>\n",
       "    </tr>\n",
       "    <tr>\n",
       "      <th>7</th>\n",
       "      <td>VENTURE</td>\n",
       "      <td>MORTGAGE</td>\n",
       "      <td>27</td>\n",
       "    </tr>\n",
       "    <tr>\n",
       "      <th>8</th>\n",
       "      <td>MEDICAL</td>\n",
       "      <td>MORTGAGE</td>\n",
       "      <td>22</td>\n",
       "    </tr>\n",
       "    <tr>\n",
       "      <th>9</th>\n",
       "      <td>PERSONAL</td>\n",
       "      <td>OWN</td>\n",
       "      <td>22</td>\n",
       "    </tr>\n",
       "    <tr>\n",
       "      <th>10</th>\n",
       "      <td>VENTURE</td>\n",
       "      <td>OWN</td>\n",
       "      <td>19</td>\n",
       "    </tr>\n",
       "    <tr>\n",
       "      <th>11</th>\n",
       "      <td>DEBTCONSOLIDATION</td>\n",
       "      <td>MORTGAGE</td>\n",
       "      <td>19</td>\n",
       "    </tr>\n",
       "    <tr>\n",
       "      <th>12</th>\n",
       "      <td>PERSONAL</td>\n",
       "      <td>MORTGAGE</td>\n",
       "      <td>18</td>\n",
       "    </tr>\n",
       "    <tr>\n",
       "      <th>13</th>\n",
       "      <td>HOMEIMPROVEMENT</td>\n",
       "      <td>OWN</td>\n",
       "      <td>16</td>\n",
       "    </tr>\n",
       "    <tr>\n",
       "      <th>14</th>\n",
       "      <td>MEDICAL</td>\n",
       "      <td>OWN</td>\n",
       "      <td>15</td>\n",
       "    </tr>\n",
       "    <tr>\n",
       "      <th>15</th>\n",
       "      <td>EDUCATION</td>\n",
       "      <td>OWN</td>\n",
       "      <td>15</td>\n",
       "    </tr>\n",
       "    <tr>\n",
       "      <th>16</th>\n",
       "      <td>HOMEIMPROVEMENT</td>\n",
       "      <td>MORTGAGE</td>\n",
       "      <td>12</td>\n",
       "    </tr>\n",
       "    <tr>\n",
       "      <th>17</th>\n",
       "      <td>DEBTCONSOLIDATION</td>\n",
       "      <td>OWN</td>\n",
       "      <td>9</td>\n",
       "    </tr>\n",
       "    <tr>\n",
       "      <th>18</th>\n",
       "      <td>EDUCATION</td>\n",
       "      <td>OTHER</td>\n",
       "      <td>1</td>\n",
       "    </tr>\n",
       "    <tr>\n",
       "      <th>19</th>\n",
       "      <td>PERSONAL</td>\n",
       "      <td>OTHER</td>\n",
       "      <td>1</td>\n",
       "    </tr>\n",
       "  </tbody>\n",
       "</table>\n",
       "</div>"
      ],
      "text/plain": [
       "               intent      home  count\n",
       "0           EDUCATION      RENT     94\n",
       "1   DEBTCONSOLIDATION      RENT     72\n",
       "2             MEDICAL      RENT     70\n",
       "3             VENTURE      RENT     70\n",
       "4            PERSONAL      RENT     68\n",
       "5     HOMEIMPROVEMENT      RENT     39\n",
       "6           EDUCATION  MORTGAGE     32\n",
       "7             VENTURE  MORTGAGE     27\n",
       "8             MEDICAL  MORTGAGE     22\n",
       "9            PERSONAL       OWN     22\n",
       "10            VENTURE       OWN     19\n",
       "11  DEBTCONSOLIDATION  MORTGAGE     19\n",
       "12           PERSONAL  MORTGAGE     18\n",
       "13    HOMEIMPROVEMENT       OWN     16\n",
       "14            MEDICAL       OWN     15\n",
       "15          EDUCATION       OWN     15\n",
       "16    HOMEIMPROVEMENT  MORTGAGE     12\n",
       "17  DEBTCONSOLIDATION       OWN      9\n",
       "18          EDUCATION     OTHER      1\n",
       "19           PERSONAL     OTHER      1"
      ]
     },
     "execution_count": 25,
     "metadata": {},
     "output_type": "execute_result"
    }
   ],
   "source": [
    "df_grouped = df_cleaned.groupby(['intent', 'home'], observed=True).size().reset_index(name='count')\n",
    "df_grouped = df_grouped.sort_values(by='count', ascending=False).reset_index(drop=True)\n",
    "\n",
    "(df_grouped)"
   ]
  },
  {
   "cell_type": "markdown",
   "metadata": {
    "id": "HCyyeAu6ne7a"
   },
   "source": [
    "**`Тут мы снова группируем данные, но теперь по цели кредита (intent) и типу жилья (home). Код считает количество заявок в каждой группе, а потом сортирует результат так, чтобы самая популярная комбинация цели и жилья была наверху списка. Мы видим, за какими именно целями кредита люди с разным жилищным статусом обращаются чаще всего.`**"
   ]
  },
  {
   "cell_type": "markdown",
   "metadata": {
    "id": "_3fHGp64nhUJ"
   },
   "source": [
    "#### Задание 3"
   ]
  },
  {
   "cell_type": "markdown",
   "metadata": {
    "id": "_Bc4ehyKnhUJ"
   },
   "source": [
    "*`Сводная таблица (pivot_table) - средний доход income для каждого\n",
    "возраста. Отсортировать по убыванию. Округлить до двух знаков.`*"
   ]
  },
  {
   "cell_type": "code",
   "execution_count": 26,
   "metadata": {
    "id": "siDovPvQnhUJ"
   },
   "outputs": [
    {
     "data": {
      "text/html": [
       "<div>\n",
       "<style scoped>\n",
       "    .dataframe tbody tr th:only-of-type {\n",
       "        vertical-align: middle;\n",
       "    }\n",
       "\n",
       "    .dataframe tbody tr th {\n",
       "        vertical-align: top;\n",
       "    }\n",
       "\n",
       "    .dataframe thead th {\n",
       "        text-align: right;\n",
       "    }\n",
       "</style>\n",
       "<table border=\"1\" class=\"dataframe\">\n",
       "  <thead>\n",
       "    <tr style=\"text-align: right;\">\n",
       "      <th></th>\n",
       "      <th>avg_income</th>\n",
       "    </tr>\n",
       "    <tr>\n",
       "      <th>age</th>\n",
       "      <th></th>\n",
       "    </tr>\n",
       "  </thead>\n",
       "  <tbody>\n",
       "    <tr>\n",
       "      <th>144</th>\n",
       "      <td>225000.00</td>\n",
       "    </tr>\n",
       "    <tr>\n",
       "      <th>123</th>\n",
       "      <td>80004.00</td>\n",
       "    </tr>\n",
       "    <tr>\n",
       "      <th>26</th>\n",
       "      <td>122793.74</td>\n",
       "    </tr>\n",
       "    <tr>\n",
       "      <th>25</th>\n",
       "      <td>107174.44</td>\n",
       "    </tr>\n",
       "    <tr>\n",
       "      <th>24</th>\n",
       "      <td>89020.24</td>\n",
       "    </tr>\n",
       "    <tr>\n",
       "      <th>23</th>\n",
       "      <td>85682.35</td>\n",
       "    </tr>\n",
       "    <tr>\n",
       "      <th>22</th>\n",
       "      <td>65794.82</td>\n",
       "    </tr>\n",
       "    <tr>\n",
       "      <th>21</th>\n",
       "      <td>43390.39</td>\n",
       "    </tr>\n",
       "  </tbody>\n",
       "</table>\n",
       "</div>"
      ],
      "text/plain": [
       "     avg_income\n",
       "age            \n",
       "144   225000.00\n",
       "123    80004.00\n",
       "26    122793.74\n",
       "25    107174.44\n",
       "24     89020.24\n",
       "23     85682.35\n",
       "22     65794.82\n",
       "21     43390.39"
      ]
     },
     "execution_count": 26,
     "metadata": {},
     "output_type": "execute_result"
    }
   ],
   "source": [
    "pivot_income = df_cleaned.pivot_table(\n",
    "    values='income',\n",
    "    index='age',\n",
    "    aggfunc='mean'\n",
    ").round(2).sort_index(ascending=False)\n",
    "\n",
    "pivot_income = pivot_income.rename(columns={'income': 'avg_income'})\n",
    "\n",
    "(pivot_income)\n"
   ]
  },
  {
   "cell_type": "markdown",
   "metadata": {
    "id": "1-vw8iyUnhUK"
   },
   "source": [
    "**`Здесь мы строим таблицу, где для каждого возраста (age) вычисляется средний доход (income) всех людей этого возраста в нашем наборе данных. Строки (возраст) отсортированы по убыванию, то есть наверху таблицы будут самые старшие клиенты. Мы видим, как в среднем меняется доход с возрастом. Обычно можно ожидать, что у более молодых людей (внизу списка) средний доход будет ниже`**"
   ]
  },
  {
   "cell_type": "markdown",
   "metadata": {
    "id": "FOlw74xCniNo"
   },
   "source": [
    "#### Задание 4"
   ]
  },
  {
   "cell_type": "markdown",
   "metadata": {
    "id": "4tvYwT25niNq"
   },
   "source": [
    "*`Сводная таблица (pivot_table) - средняя сумма кредита amount для\n",
    "каждой цели (intent) - строки и возраста - столбцы . Отсортировать по\n",
    "возрастанию intent. Округлить до двух знаков.`*"
   ]
  },
  {
   "cell_type": "code",
   "execution_count": 27,
   "metadata": {
    "id": "TfJ719g6niNq"
   },
   "outputs": [
    {
     "name": "stderr",
     "output_type": "stream",
     "text": [
      "/tmp/ipykernel_6328/3609056476.py:1: FutureWarning: The default value of observed=False is deprecated and will change to observed=True in a future version of pandas. Specify observed=False to silence this warning and retain the current behavior\n",
      "  pivot_amount = df_cleaned.pivot_table(\n"
     ]
    },
    {
     "data": {
      "text/html": [
       "<div>\n",
       "<style scoped>\n",
       "    .dataframe tbody tr th:only-of-type {\n",
       "        vertical-align: middle;\n",
       "    }\n",
       "\n",
       "    .dataframe tbody tr th {\n",
       "        vertical-align: top;\n",
       "    }\n",
       "\n",
       "    .dataframe thead th {\n",
       "        text-align: right;\n",
       "    }\n",
       "</style>\n",
       "<table border=\"1\" class=\"dataframe\">\n",
       "  <thead>\n",
       "    <tr style=\"text-align: right;\">\n",
       "      <th>age</th>\n",
       "      <th>21</th>\n",
       "      <th>22</th>\n",
       "      <th>23</th>\n",
       "      <th>24</th>\n",
       "      <th>25</th>\n",
       "      <th>26</th>\n",
       "      <th>123</th>\n",
       "      <th>144</th>\n",
       "    </tr>\n",
       "    <tr>\n",
       "      <th>intent</th>\n",
       "      <th></th>\n",
       "      <th></th>\n",
       "      <th></th>\n",
       "      <th></th>\n",
       "      <th></th>\n",
       "      <th></th>\n",
       "      <th></th>\n",
       "      <th></th>\n",
       "    </tr>\n",
       "  </thead>\n",
       "  <tbody>\n",
       "    <tr>\n",
       "      <th>DEBTCONSOLIDATION</th>\n",
       "      <td>10583.33</td>\n",
       "      <td>18602.78</td>\n",
       "      <td>20291.67</td>\n",
       "      <td>21269.23</td>\n",
       "      <td>18603.33</td>\n",
       "      <td>21947.22</td>\n",
       "      <td>0.0</td>\n",
       "      <td>0.0</td>\n",
       "    </tr>\n",
       "    <tr>\n",
       "      <th>EDUCATION</th>\n",
       "      <td>13500.00</td>\n",
       "      <td>19207.26</td>\n",
       "      <td>20288.28</td>\n",
       "      <td>20355.00</td>\n",
       "      <td>19326.04</td>\n",
       "      <td>20566.67</td>\n",
       "      <td>20400.0</td>\n",
       "      <td>6000.0</td>\n",
       "    </tr>\n",
       "    <tr>\n",
       "      <th>HOMEIMPROVEMENT</th>\n",
       "      <td>4355.00</td>\n",
       "      <td>10216.67</td>\n",
       "      <td>4000.00</td>\n",
       "      <td>20095.37</td>\n",
       "      <td>21266.67</td>\n",
       "      <td>20038.46</td>\n",
       "      <td>0.0</td>\n",
       "      <td>0.0</td>\n",
       "    </tr>\n",
       "    <tr>\n",
       "      <th>MEDICAL</th>\n",
       "      <td>10700.00</td>\n",
       "      <td>18073.21</td>\n",
       "      <td>17968.48</td>\n",
       "      <td>21119.64</td>\n",
       "      <td>18114.81</td>\n",
       "      <td>20410.00</td>\n",
       "      <td>0.0</td>\n",
       "      <td>0.0</td>\n",
       "    </tr>\n",
       "    <tr>\n",
       "      <th>PERSONAL</th>\n",
       "      <td>3633.33</td>\n",
       "      <td>18522.50</td>\n",
       "      <td>19241.00</td>\n",
       "      <td>21205.00</td>\n",
       "      <td>21643.75</td>\n",
       "      <td>18588.24</td>\n",
       "      <td>0.0</td>\n",
       "      <td>0.0</td>\n",
       "    </tr>\n",
       "    <tr>\n",
       "      <th>VENTURE</th>\n",
       "      <td>9407.69</td>\n",
       "      <td>16310.29</td>\n",
       "      <td>22810.94</td>\n",
       "      <td>19406.73</td>\n",
       "      <td>18360.42</td>\n",
       "      <td>18850.00</td>\n",
       "      <td>0.0</td>\n",
       "      <td>4800.0</td>\n",
       "    </tr>\n",
       "  </tbody>\n",
       "</table>\n",
       "</div>"
      ],
      "text/plain": [
       "age                     21        22        23        24        25        26   \\\n",
       "intent                                                                          \n",
       "DEBTCONSOLIDATION  10583.33  18602.78  20291.67  21269.23  18603.33  21947.22   \n",
       "EDUCATION          13500.00  19207.26  20288.28  20355.00  19326.04  20566.67   \n",
       "HOMEIMPROVEMENT     4355.00  10216.67   4000.00  20095.37  21266.67  20038.46   \n",
       "MEDICAL            10700.00  18073.21  17968.48  21119.64  18114.81  20410.00   \n",
       "PERSONAL            3633.33  18522.50  19241.00  21205.00  21643.75  18588.24   \n",
       "VENTURE             9407.69  16310.29  22810.94  19406.73  18360.42  18850.00   \n",
       "\n",
       "age                    123     144  \n",
       "intent                              \n",
       "DEBTCONSOLIDATION      0.0     0.0  \n",
       "EDUCATION          20400.0  6000.0  \n",
       "HOMEIMPROVEMENT        0.0     0.0  \n",
       "MEDICAL                0.0     0.0  \n",
       "PERSONAL               0.0     0.0  \n",
       "VENTURE                0.0  4800.0  "
      ]
     },
     "execution_count": 27,
     "metadata": {},
     "output_type": "execute_result"
    }
   ],
   "source": [
    "pivot_amount = df_cleaned.pivot_table(\n",
    "    values='amount',\n",
    "    index='intent',\n",
    "    columns='age',\n",
    "    aggfunc='mean',\n",
    "    fill_value=0  \n",
    ").round(2)\n",
    "\n",
    "pivot_amount = pivot_amount.sort_index()\n",
    "\n",
    "(pivot_amount)\n"
   ]
  },
  {
   "cell_type": "markdown",
   "metadata": {
    "id": "yqJqvk5qniNr"
   },
   "source": [
    "**`Мы создаем \"сводную таблицу\". По строкам у нас цели кредита (intent), а по столбцам — возраст (age). На пересечении строки и столбца находится средняя сумма кредита (amount), которую запрашивают люди данного возраста для данной цели. По горизонтали (по возрасту): Как меняется средняя сумма кредита на одну и ту же цель (например, на образование) для разных возрастов. По вертикали (по цели): На какие цели в среднем берут самые крупные кредиты(можно заметить, что погашение кредита или оплата образования является лидером), а на какие — самые мелкие`**"
   ]
  },
  {
   "cell_type": "markdown",
   "metadata": {
    "id": "TpnXb6gip3S8"
   },
   "source": [
    "### Вывод"
   ]
  },
  {
   "cell_type": "markdown",
   "metadata": {
    "id": "nqLa096jM1Z8"
   },
   "source": [
    "В ходе работы был проведён предварительный анализ набора данных credit_risk.csv, содержащего информацию о 652 клиентах и их кредитах. Данные относятся к предметной области оценки кредитных рисков и включают показатели возраста, дохода, цели кредита, типа жилья, суммы займа, процентной ставки, длины кредитной истории и факта дефолта. На этапе предобработки были выявлены и устранены ошибки: некорректные значения возраста (123 и 144 года) и стажа работы (123 года, дробное значение 4.6), опечатка в типе жилья («RENET» заменена на «RENT»), а также неявный дубликат в колонке дефолта («No» объединено с «N»). Пропуски в числовых данных были заполнены медианными значениями. Типы данных приведены в соответствие: числовые признаки переведены в int64 или float64, категориальные признаки — в category.\n",
    "\n",
    "Анализ группировок показал, что наибольшее количество клиентов берут кредиты, находясь в аренде жилья RENT. Среди них же наблюдается и наибольшее количество дефолтов (106 случаев). В то же время владельцы собственного жилья OWN составляют меньшинство выборки и демонстрируют наименьший уровень дефолтов (13 случаев). Ипотечники MORTGAGE занимают промежуточное положение. Таким образом, арендаторы являются наиболее уязвимой категорией заёмщиков.\n",
    "\n",
    "В лабораторной работе осуществлялась работа с библиотекой pandas. Были изучены типы данных в библиотеке, индексация и др. На практике были произведены подготовка данных, устранение ошибок и дубликатов, обработка различных типов данных. Были изучены такие понятия как группировка и категоризация."
   ]
  },
  {
   "cell_type": "markdown",
   "metadata": {
    "id": "Sn3y7og_vjGG"
   },
   "source": [
    "### Дополнительное задание"
   ]
  },
  {
   "cell_type": "markdown",
   "metadata": {},
   "source": [
    "**`4. Создать столбец “Категория дохода (Income)” (с помощью категоризации).\n",
    "Выделить минимум 3 категории (низкий, высокий, средний), фильтрацию для\n",
    "уровня дохода выбрать самостоятельно, аргументировать выбор. Создать\n",
    "группировку: средняя, минимальная, максимальная, медианная сумма кредита\n",
    "(amount) по категории дохода.`**"
   ]
  },
  {
   "cell_type": "code",
   "execution_count": 36,
   "metadata": {},
   "outputs": [
    {
     "data": {
      "text/plain": [
       "count       641.000000\n",
       "mean      90811.184087\n",
       "std       69567.707227\n",
       "min        9600.000000\n",
       "25%       45000.000000\n",
       "50%       70000.000000\n",
       "75%      130000.000000\n",
       "max      500000.000000\n",
       "Name: income, dtype: float64"
      ]
     },
     "execution_count": 36,
     "metadata": {},
     "output_type": "execute_result"
    }
   ],
   "source": [
    "df_cleaned['income'].describe()"
   ]
  },
  {
   "cell_type": "markdown",
   "metadata": {},
   "source": [
    "Я использовал метод describe(), для выбора границ доходов, т.к. он показывает нам основную статистику по столбцу с доходами - среднее значение, разброс данных, минимальный и максимальный доход, а также квартили распределения.\n",
    "\n",
    "Мы выбрали границы по квартилям (Q1 = 45000, Q3 = 130000).\\\n",
    "Это логично, так как категории распределяются относительно большинства значений.\n",
    "\n",
    "Сами границы:\n",
    "Низкий доход <= 45000, \\\n",
    "Средний доход > 45000 и <= 130000, \\\n",
    "Крупный доход > 130000."
   ]
  },
  {
   "cell_type": "code",
   "execution_count": 38,
   "metadata": {},
   "outputs": [
    {
     "data": {
      "text/html": [
       "<div>\n",
       "<style scoped>\n",
       "    .dataframe tbody tr th:only-of-type {\n",
       "        vertical-align: middle;\n",
       "    }\n",
       "\n",
       "    .dataframe tbody tr th {\n",
       "        vertical-align: top;\n",
       "    }\n",
       "\n",
       "    .dataframe thead th {\n",
       "        text-align: right;\n",
       "    }\n",
       "</style>\n",
       "<table border=\"1\" class=\"dataframe\">\n",
       "  <thead>\n",
       "    <tr style=\"text-align: right;\">\n",
       "      <th></th>\n",
       "      <th>mean</th>\n",
       "      <th>min</th>\n",
       "      <th>max</th>\n",
       "      <th>median</th>\n",
       "    </tr>\n",
       "    <tr>\n",
       "      <th>income_cat</th>\n",
       "      <th></th>\n",
       "      <th></th>\n",
       "      <th></th>\n",
       "      <th></th>\n",
       "    </tr>\n",
       "  </thead>\n",
       "  <tbody>\n",
       "    <tr>\n",
       "      <th>Высокий</th>\n",
       "      <td>18941.46</td>\n",
       "      <td>1000</td>\n",
       "      <td>35000</td>\n",
       "      <td>20000.0</td>\n",
       "    </tr>\n",
       "    <tr>\n",
       "      <th>Низкий</th>\n",
       "      <td>8043.67</td>\n",
       "      <td>1000</td>\n",
       "      <td>25000</td>\n",
       "      <td>4537.5</td>\n",
       "    </tr>\n",
       "    <tr>\n",
       "      <th>Средний</th>\n",
       "      <td>24408.18</td>\n",
       "      <td>10000</td>\n",
       "      <td>35000</td>\n",
       "      <td>24250.0</td>\n",
       "    </tr>\n",
       "  </tbody>\n",
       "</table>\n",
       "</div>"
      ],
      "text/plain": [
       "                mean    min    max   median\n",
       "income_cat                                 \n",
       "Высокий     18941.46   1000  35000  20000.0\n",
       "Низкий       8043.67   1000  25000   4537.5\n",
       "Средний     24408.18  10000  35000  24250.0"
      ]
     },
     "execution_count": 38,
     "metadata": {},
     "output_type": "execute_result"
    }
   ],
   "source": [
    "def income_category(income):\n",
    "    if income <= 45000:\n",
    "        return 'Низкий'\n",
    "    elif income <= 130000:\n",
    "        return 'Средний'\n",
    "    else:\n",
    "        return 'Высокий'\n",
    "\n",
    "df_cleaned['income_cat'] = df_cleaned['income'].apply(income_category)\n",
    "\n",
    "income_group = df_cleaned.groupby('income_cat')['amount'].agg(['mean', 'min', 'max', 'median']).round(2)\n",
    "(income_group)"
   ]
  },
  {
   "cell_type": "markdown",
   "metadata": {
    "id": "y-qpTuhTvon3"
   },
   "source": [
    "Здесь я создал функцию income_category(), которая разбивает доходы на три категории: низкий, средний и высокий. Это нужно было для упрощения анализа вместо работы с непрерывными числовыми значениями. \n",
    "\n",
    "Для анализа использовал следующие методы:\n",
    "- apply() использовался для применения этой функции ко всем строкам в столбце доходов, создавая новый категориальный столбец.\n",
    "- groupby() для группировки данных по созданным категориям дохода\n",
    "- метод agg() для расчета сразу нескольких статистик по сумме кредита в каждой группе: среднего, минимума, максимума и медианы.\n",
    "\n",
    "Получаем следующую информацию:\n",
    "Заемщики с высоким доходом берут в среднем кредиты на сумму около (~18941). Минимальная сумма (1000) может быть исключением, например, для образовательных целей.\n",
    "\n",
    "Заемщики со средним доходом имеют самую высокую среднюю сумму кредита (~24408), а медиана равна 24250. Это самая активная группа, которая чаще всего берет крупные кредиты. Минимальная сумма (10000) довольно крупная, что говорит о том,что заемщики со средним доходом не берут мелкие суммы кредитов.\n",
    "\n",
    "Заемщики с низким доходом берут значительно меньшие по сумме кредиты. Их средний кредит (~8043), а медиана — (~4537). Это логично, так как их доход не позволяет брать большие займы (что также видно по столбцу percent_income в исходных данных). При этом в этой группе тоже есть люди, берущие максимальные 25000, что может быть рискованно.\n"
   ]
  },
  {
   "cell_type": "markdown",
   "metadata": {},
   "source": [
    "**`9. Создать столбец “Категория суммы кредита” - Amount (с помощью\n",
    "категоризации). Выделить минимум 3 категории (маленькая, крупная, средняя),\n",
    "фильтрацию для уровня суммы выбрать самостоятельно, аргументировать\n",
    "выбор. Создать группировку: средняя, минимальная, максимальная,\n",
    "медианная сумма кредита (amount) по цели кредита.`**"
   ]
  },
  {
   "cell_type": "code",
   "execution_count": 37,
   "metadata": {},
   "outputs": [
    {
     "data": {
      "text/plain": [
       "count      641.000000\n",
       "mean     18924.882995\n",
       "std       9073.306111\n",
       "min       1000.000000\n",
       "25%      12000.000000\n",
       "50%      22000.000000\n",
       "75%      25000.000000\n",
       "max      35000.000000\n",
       "Name: amount, dtype: float64"
      ]
     },
     "execution_count": 37,
     "metadata": {},
     "output_type": "execute_result"
    }
   ],
   "source": [
    "df_cleaned[\"amount\"].describe()"
   ]
  },
  {
   "cell_type": "markdown",
   "metadata": {},
   "source": [
    "Аналогично заданию 4 использовал метод desctibe.\n",
    "\n",
    "Мы выбрали границы по квартилям (Q1 = 12000, Q3 = 25000).\\\n",
    "Это логично, так как категории распределяются относительно большинства значений.\n",
    "\n",
    "Сами границы:\n",
    "Маленькая сумма кредита <= 12000, \\\n",
    "Средняя сумма кредита > 12000 и <= 25000, \\\n",
    "Крупная сумма кредита > 25000."
   ]
  },
  {
   "cell_type": "code",
   "execution_count": 39,
   "metadata": {},
   "outputs": [
    {
     "name": "stderr",
     "output_type": "stream",
     "text": [
      "/tmp/ipykernel_6328/2144130189.py:11: FutureWarning: The default of observed=False is deprecated and will be changed to True in a future version of pandas. Pass observed=False to retain current behavior or observed=True to adopt the future default and silence this warning.\n",
      "  intent_group = df_cleaned.groupby('intent')['amount'].agg(['mean', 'min', 'max', 'median']).round(2)\n"
     ]
    },
    {
     "data": {
      "text/html": [
       "<div>\n",
       "<style scoped>\n",
       "    .dataframe tbody tr th:only-of-type {\n",
       "        vertical-align: middle;\n",
       "    }\n",
       "\n",
       "    .dataframe tbody tr th {\n",
       "        vertical-align: top;\n",
       "    }\n",
       "\n",
       "    .dataframe thead th {\n",
       "        text-align: right;\n",
       "    }\n",
       "</style>\n",
       "<table border=\"1\" class=\"dataframe\">\n",
       "  <thead>\n",
       "    <tr style=\"text-align: right;\">\n",
       "      <th></th>\n",
       "      <th>mean</th>\n",
       "      <th>min</th>\n",
       "      <th>max</th>\n",
       "      <th>median</th>\n",
       "    </tr>\n",
       "    <tr>\n",
       "      <th>intent</th>\n",
       "      <th></th>\n",
       "      <th></th>\n",
       "      <th></th>\n",
       "      <th></th>\n",
       "    </tr>\n",
       "  </thead>\n",
       "  <tbody>\n",
       "    <tr>\n",
       "      <th>DEBTCONSOLIDATION</th>\n",
       "      <td>19868.25</td>\n",
       "      <td>2275</td>\n",
       "      <td>35000</td>\n",
       "      <td>23800.0</td>\n",
       "    </tr>\n",
       "    <tr>\n",
       "      <th>EDUCATION</th>\n",
       "      <td>19266.73</td>\n",
       "      <td>1000</td>\n",
       "      <td>35000</td>\n",
       "      <td>21475.0</td>\n",
       "    </tr>\n",
       "    <tr>\n",
       "      <th>HOMEIMPROVEMENT</th>\n",
       "      <td>18047.01</td>\n",
       "      <td>1400</td>\n",
       "      <td>33000</td>\n",
       "      <td>21500.0</td>\n",
       "    </tr>\n",
       "    <tr>\n",
       "      <th>MEDICAL</th>\n",
       "      <td>18732.24</td>\n",
       "      <td>1200</td>\n",
       "      <td>35000</td>\n",
       "      <td>21250.0</td>\n",
       "    </tr>\n",
       "    <tr>\n",
       "      <th>PERSONAL</th>\n",
       "      <td>19467.20</td>\n",
       "      <td>1400</td>\n",
       "      <td>35000</td>\n",
       "      <td>24000.0</td>\n",
       "    </tr>\n",
       "    <tr>\n",
       "      <th>VENTURE</th>\n",
       "      <td>17868.32</td>\n",
       "      <td>1000</td>\n",
       "      <td>35000</td>\n",
       "      <td>20250.0</td>\n",
       "    </tr>\n",
       "  </tbody>\n",
       "</table>\n",
       "</div>"
      ],
      "text/plain": [
       "                       mean   min    max   median\n",
       "intent                                           \n",
       "DEBTCONSOLIDATION  19868.25  2275  35000  23800.0\n",
       "EDUCATION          19266.73  1000  35000  21475.0\n",
       "HOMEIMPROVEMENT    18047.01  1400  33000  21500.0\n",
       "MEDICAL            18732.24  1200  35000  21250.0\n",
       "PERSONAL           19467.20  1400  35000  24000.0\n",
       "VENTURE            17868.32  1000  35000  20250.0"
      ]
     },
     "execution_count": 39,
     "metadata": {},
     "output_type": "execute_result"
    }
   ],
   "source": [
    "def amount_category(amount):\n",
    "    if amount <= 12000:\n",
    "        return 'Маленькая'\n",
    "    elif amount <= 25000:\n",
    "        return 'Средняя'\n",
    "    else:\n",
    "        return 'Крупная'\n",
    "\n",
    "df_cleaned['amount_cat'] = df_cleaned['amount'].apply(amount_category)\n",
    "\n",
    "intent_group = df_cleaned.groupby('intent')['amount'].agg(['mean', 'min', 'max', 'median']).round(2)\n",
    "(intent_group)"
   ]
  },
  {
   "cell_type": "markdown",
   "metadata": {
    "id": "y-qpTuhTvon3"
   },
   "source": [
    "Аналогично доходам, я применил функцию amount_category() для разделения сумм кредитов на маленькие, средние и крупные. Это помогает анализировать не абсолютные значения, а более понятные категории.\n",
    "\n",
    "Рейтинг целей по средней сумме кредита:\n",
    "- DEBTCONSOLIDATION (консолидация долгов) - 19,868.25\n",
    "- PERSONAL (личные цели) - 19,467.20\n",
    "- EDUCATION (образование) - 19,266.73\n",
    "- MEDICAL (медицина) - 18,732.24\n",
    "- HOMEIMPROVEMENT (улучшение жилья) - 18,047.01\n",
    "- VENTURE (бизнес) - 17,868.32\n",
    "\n",
    "Консолидация долгов (DEBTCONSOLIDATION) демонстрирует наибольшую среднюю сумму кредита, что логично - для объединения нескольких существующих долгов обычно требуется значительная сумма. При этом медианное значение (23,800) даже выше среднего, что указывает на преобладание крупных кредитов в этой категории.\n",
    "\n",
    "Личные цели (PERSONAL) занимают второе место по средней сумме с высоким медианным значением 24,000, что свидетельствует о популярности крупных кредитов для удовлетворения персональных потребностей.\n",
    "\n",
    "Образовательные кредиты (EDUCATION) показывают широкий разброс - от небольших сумм в 1,000 (возможно, краткосрочные курсы) до максимальных 35,000 (вероятно, полное высшее образование).\n",
    "\n",
    "Бизнес-кредиты (VENTURE) имеют наименьшую среднюю сумму, что может объясняться осторожностью как заемщиков (начинающих предпринимателей), так и кредиторов в финансировании рискованных ventures."
   ]
  },
  {
   "cell_type": "markdown",
   "metadata": {},
   "source": [
    "**`17. Создать столбец “Категория суммы кредита” - Amount (с помощью\n",
    "категоризации). Выделить минимум 3 категории (маленькая, крупная, средняя),\n",
    "фильтрацию для уровня суммы выбрать самостоятельно, аргументировать\n",
    "выбор. Создать столбец “Категория дохода (Income)” (с помощью\n",
    "категоризации). Выделить минимум 3 категории (низкий, высокий, средний),\n",
    "фильтрацию для уровня дохода выбрать самостоятельно, аргументировать\n",
    "выбор. Создать сводную таблицу: медианная сумма кредита по категории\n",
    "суммы кредита и категории дохода.`**"
   ]
  },
  {
   "cell_type": "code",
   "execution_count": 40,
   "metadata": {},
   "outputs": [
    {
     "data": {
      "text/html": [
       "<div>\n",
       "<style scoped>\n",
       "    .dataframe tbody tr th:only-of-type {\n",
       "        vertical-align: middle;\n",
       "    }\n",
       "\n",
       "    .dataframe tbody tr th {\n",
       "        vertical-align: top;\n",
       "    }\n",
       "\n",
       "    .dataframe thead th {\n",
       "        text-align: right;\n",
       "    }\n",
       "</style>\n",
       "<table border=\"1\" class=\"dataframe\">\n",
       "  <thead>\n",
       "    <tr style=\"text-align: right;\">\n",
       "      <th>amount_cat</th>\n",
       "      <th>Крупная</th>\n",
       "      <th>Маленькая</th>\n",
       "      <th>Средняя</th>\n",
       "    </tr>\n",
       "    <tr>\n",
       "      <th>income_cat</th>\n",
       "      <th></th>\n",
       "      <th></th>\n",
       "      <th></th>\n",
       "    </tr>\n",
       "  </thead>\n",
       "  <tbody>\n",
       "    <tr>\n",
       "      <th>Высокий</th>\n",
       "      <td>32400.0</td>\n",
       "      <td>9975.0</td>\n",
       "      <td>22000.0</td>\n",
       "    </tr>\n",
       "    <tr>\n",
       "      <th>Низкий</th>\n",
       "      <td>0.0</td>\n",
       "      <td>3625.0</td>\n",
       "      <td>20000.0</td>\n",
       "    </tr>\n",
       "    <tr>\n",
       "      <th>Средний</th>\n",
       "      <td>30000.0</td>\n",
       "      <td>10000.0</td>\n",
       "      <td>24000.0</td>\n",
       "    </tr>\n",
       "  </tbody>\n",
       "</table>\n",
       "</div>"
      ],
      "text/plain": [
       "amount_cat  Крупная  Маленькая  Средняя\n",
       "income_cat                             \n",
       "Высокий     32400.0     9975.0  22000.0\n",
       "Низкий          0.0     3625.0  20000.0\n",
       "Средний     30000.0    10000.0  24000.0"
      ]
     },
     "execution_count": 40,
     "metadata": {},
     "output_type": "execute_result"
    }
   ],
   "source": [
    "pivot_table = df_cleaned.pivot_table(\n",
    "    index='income_cat',\n",
    "    columns='amount_cat',\n",
    "    values='amount',\n",
    "    aggfunc='median',\n",
    "    fill_value=0\n",
    ")\n",
    "\n",
    "(pivot_table)"
   ]
  },
  {
   "cell_type": "markdown",
   "metadata": {
    "id": "y-qpTuhTvon3"
   },
   "source": [
    "Я использовал метод pivot_table() для создания сводной таблицы, которая показывает медианную сумму кредита на пересечении категорий дохода и размера кредита. Это позволяет увидеть, как эти две характеристики связаны между собой.\n",
    "\n",
    "Здесь же я использовал уже созданные в заданиях 4 и 9 столбцы: income_cat и amount_cat. Здесь я построил сводную таблицу (pivot table), где строками стала категория дохода, столбцами — категория суммы кредита, а значениями — медианная сумма кредита.\n",
    "\n",
    "Результаты:\n",
    "1. Крупные кредиты:\n",
    "Высокий доход: 32400 - самая высокая медианная сумма среди всех категорий\n",
    "Средний доход: 30000 - значительная сумма, но ниже чем у высокодоходной группы\n",
    "Низкий доход: 0 - полное отсутствие крупных кредитов\n",
    "\n",
    "Это показывает четкую зависимость: чем выше доход, тем более крупные кредиты доступны заемщику. Банк практически не выдает крупные кредиты клиентам с низким доходом, что является разумной риск-политикой.\n",
    "\n",
    "2. Средние кредиты:\n",
    "Высокий доход: 22000\n",
    "Средний доход: 24000 (максимум в этой категории)\n",
    "Низкий доход: 20000\n",
    "\n",
    "Интересно, что заемщики со средним доходом берут самые крупные кредиты в категории \"средние\". Возможно, это их \"потолок\" по кредитной нагрузке.\n",
    "\n",
    "3. Маленькие кредиты:\n",
    "Высокий доход: 9975\n",
    "Средний доход: 10000\n",
    "Низкий доход: 3625 (самый низкий показатель)\n",
    "\n",
    "Здесь видна обратная тенденция - заемщики с низким доходом берут значительно меньшие суммы даже в категории \"маленькие\" кредиты. Это может быть связано с осторожностью банка или самого заемщика."
   ]
  },
  {
   "cell_type": "markdown",
   "metadata": {},
   "source": [
    "**`23. Отфильтровать набор данных. Выбрать топ 2 цели кредита по средней сумме\n",
    "кредита + топ 2 статуса землевладения по медианной сумме кредита. Создать\n",
    "сводные таблицы: цель кредита, статус домовладения - медианный, средний,\n",
    "максимальный доход.`**"
   ]
  },
  {
   "cell_type": "code",
   "execution_count": 41,
   "metadata": {},
   "outputs": [
    {
     "name": "stdout",
     "output_type": "stream",
     "text": [
      "Топ-2 цели по средней сумме кредита: ['DEBTCONSOLIDATION', 'PERSONAL']\n"
     ]
    },
    {
     "name": "stderr",
     "output_type": "stream",
     "text": [
      "/tmp/ipykernel_6328/1398054357.py:1: FutureWarning: The default of observed=False is deprecated and will be changed to True in a future version of pandas. Pass observed=False to retain current behavior or observed=True to adopt the future default and silence this warning.\n",
      "  top_intent = df_cleaned.groupby('intent')['amount'].mean().nlargest(2).index.tolist()\n"
     ]
    }
   ],
   "source": [
    "top_intent = df_cleaned.groupby('intent')['amount'].mean().nlargest(2).index.tolist()\n",
    "print(\"Топ-2 цели по средней сумме кредита:\", top_intent)"
   ]
  },
  {
   "cell_type": "markdown",
   "metadata": {},
   "source": [
    "Я сделал группировку через groupby('intent'), чтобы разбить данные по целям кредита. Затем я выбрал столбец 'amount' и применил к нему функцию mean() для расчёта срел. суммы кредита для каждой цели. Потом я использовал метод nlargest(2), чтобы выбрать две цели с наибольшими средними суммами кредита и уже после обратился к .index полученного результата, чтобы извлечь названия этих топ-целей, и преобразовал их в список через .tolist() для удобства работы.\n",
    "\n",
    "Наконец, я вывел результат через print(), чтобы показать, какие две цели кредита имеют самые высокие средние суммы."
   ]
  },
  {
   "cell_type": "code",
   "execution_count": 42,
   "metadata": {},
   "outputs": [
    {
     "name": "stdout",
     "output_type": "stream",
     "text": [
      "Топ-2 статуса домовладения по медианной сумме кредита: ['RENT', 'MORTGAGE']\n"
     ]
    },
    {
     "name": "stderr",
     "output_type": "stream",
     "text": [
      "/tmp/ipykernel_6328/141924351.py:1: FutureWarning: The default of observed=False is deprecated and will be changed to True in a future version of pandas. Pass observed=False to retain current behavior or observed=True to adopt the future default and silence this warning.\n",
      "  top_home = df_cleaned.groupby('home')['amount'].median().nlargest(2).index.tolist()\n"
     ]
    }
   ],
   "source": [
    "top_home = df_cleaned.groupby('home')['amount'].median().nlargest(2).index.tolist()\n",
    "print(\"Топ-2 статуса домовладения по медианной сумме кредита:\", top_home)"
   ]
  },
  {
   "cell_type": "markdown",
   "metadata": {},
   "source": [
    "Аналогично анализу топ-2 цели по сред. сумме кредита было сделано и с топ-2 статусами домовладения.\n",
    "\n",
    "Метод же nlargest() здесь использовался для нахождения двух самых популярных целей кредита по средней сумме и двух лучших статусов домовладения по медианной сумме."
   ]
  },
  {
   "cell_type": "code",
   "execution_count": 1,
   "metadata": {},
   "outputs": [
    {
     "ename": "NameError",
     "evalue": "name 'df_cleaned' is not defined",
     "output_type": "error",
     "traceback": [
      "\u001b[31m---------------------------------------------------------------------------\u001b[39m",
      "\u001b[31mNameError\u001b[39m                                 Traceback (most recent call last)",
      "\u001b[36mCell\u001b[39m\u001b[36m \u001b[39m\u001b[32mIn[1]\u001b[39m\u001b[32m, line 1\u001b[39m\n\u001b[32m----> \u001b[39m\u001b[32m1\u001b[39m filtered_df = \u001b[43mdf_cleaned\u001b[49m[\n\u001b[32m      2\u001b[39m     (df_cleaned[\u001b[33m'\u001b[39m\u001b[33mintent\u001b[39m\u001b[33m'\u001b[39m].isin(top_intent)) &\n\u001b[32m      3\u001b[39m     (df_cleaned[\u001b[33m'\u001b[39m\u001b[33mhome\u001b[39m\u001b[33m'\u001b[39m].isin(top_home))\n\u001b[32m      4\u001b[39m ]\n",
      "\u001b[31mNameError\u001b[39m: name 'df_cleaned' is not defined"
     ]
    }
   ],
   "source": [
    "filtered_df = df_cleaned[\n",
    "    (df_cleaned['intent'].isin(top_intent)) &\n",
    "    (df_cleaned['home'].isin(top_home))\n",
    "]"
   ]
  },
  {
   "cell_type": "markdown",
   "metadata": {},
   "source": [
    "Метод isin() я применил для фильтрации данных, оставив только топовые категории по целям кредита и статусу домовладения."
   ]
  },
  {
   "cell_type": "code",
   "execution_count": 48,
   "metadata": {},
   "outputs": [
    {
     "name": "stderr",
     "output_type": "stream",
     "text": [
      "/tmp/ipykernel_6328/2157712759.py:1: FutureWarning: The default value of observed=False is deprecated and will change to observed=True in a future version of pandas. Specify observed=False to silence this warning and retain the current behavior\n",
      "  pivot_other_income = filtered_df.pivot_table(\n"
     ]
    },
    {
     "data": {
      "text/html": [
       "<div>\n",
       "<style scoped>\n",
       "    .dataframe tbody tr th:only-of-type {\n",
       "        vertical-align: middle;\n",
       "    }\n",
       "\n",
       "    .dataframe tbody tr th {\n",
       "        vertical-align: top;\n",
       "    }\n",
       "\n",
       "    .dataframe thead th {\n",
       "        text-align: right;\n",
       "    }\n",
       "</style>\n",
       "<table border=\"1\" class=\"dataframe\">\n",
       "  <thead>\n",
       "    <tr style=\"text-align: right;\">\n",
       "      <th>home</th>\n",
       "      <th>MORTGAGE</th>\n",
       "      <th>RENT</th>\n",
       "    </tr>\n",
       "    <tr>\n",
       "      <th>intent</th>\n",
       "      <th></th>\n",
       "      <th></th>\n",
       "    </tr>\n",
       "  </thead>\n",
       "  <tbody>\n",
       "    <tr>\n",
       "      <th>DEBTCONSOLIDATION</th>\n",
       "      <td>140517.894737</td>\n",
       "      <td>85176.986111</td>\n",
       "    </tr>\n",
       "    <tr>\n",
       "      <th>PERSONAL</th>\n",
       "      <td>107103.388889</td>\n",
       "      <td>86512.735294</td>\n",
       "    </tr>\n",
       "  </tbody>\n",
       "</table>\n",
       "</div>"
      ],
      "text/plain": [
       "home                    MORTGAGE          RENT\n",
       "intent                                        \n",
       "DEBTCONSOLIDATION  140517.894737  85176.986111\n",
       "PERSONAL           107103.388889  86512.735294"
      ]
     },
     "execution_count": 48,
     "metadata": {},
     "output_type": "execute_result"
    }
   ],
   "source": [
    "pivot_other_income = filtered_df.pivot_table(\n",
    "    index='intent',\n",
    "    columns='home',\n",
    "    values='income',\n",
    "    aggfunc='mean'\n",
    ")\n",
    "\n",
    "(pivot_other_income)"
   ]
  },
  {
   "cell_type": "code",
   "execution_count": 49,
   "metadata": {},
   "outputs": [
    {
     "name": "stderr",
     "output_type": "stream",
     "text": [
      "/tmp/ipykernel_6328/1735851521.py:1: FutureWarning: The default value of observed=False is deprecated and will change to observed=True in a future version of pandas. Specify observed=False to silence this warning and retain the current behavior\n",
      "  pivot_other_income = filtered_df.pivot_table(\n"
     ]
    },
    {
     "data": {
      "text/html": [
       "<div>\n",
       "<style scoped>\n",
       "    .dataframe tbody tr th:only-of-type {\n",
       "        vertical-align: middle;\n",
       "    }\n",
       "\n",
       "    .dataframe tbody tr th {\n",
       "        vertical-align: top;\n",
       "    }\n",
       "\n",
       "    .dataframe thead th {\n",
       "        text-align: right;\n",
       "    }\n",
       "</style>\n",
       "<table border=\"1\" class=\"dataframe\">\n",
       "  <thead>\n",
       "    <tr style=\"text-align: right;\">\n",
       "      <th>home</th>\n",
       "      <th>MORTGAGE</th>\n",
       "      <th>RENT</th>\n",
       "    </tr>\n",
       "    <tr>\n",
       "      <th>intent</th>\n",
       "      <th></th>\n",
       "      <th></th>\n",
       "    </tr>\n",
       "  </thead>\n",
       "  <tbody>\n",
       "    <tr>\n",
       "      <th>DEBTCONSOLIDATION</th>\n",
       "      <td>500000.0</td>\n",
       "      <td>306000.0</td>\n",
       "    </tr>\n",
       "    <tr>\n",
       "      <th>PERSONAL</th>\n",
       "      <td>200000.0</td>\n",
       "      <td>280000.0</td>\n",
       "    </tr>\n",
       "  </tbody>\n",
       "</table>\n",
       "</div>"
      ],
      "text/plain": [
       "home               MORTGAGE      RENT\n",
       "intent                               \n",
       "DEBTCONSOLIDATION  500000.0  306000.0\n",
       "PERSONAL           200000.0  280000.0"
      ]
     },
     "execution_count": 49,
     "metadata": {},
     "output_type": "execute_result"
    }
   ],
   "source": [
    "pivot_other_income = filtered_df.pivot_table(\n",
    "    index='intent',\n",
    "    columns='home',\n",
    "    values='income',\n",
    "    aggfunc='max'\n",
    ")\n",
    "\n",
    "(pivot_other_income)"
   ]
  },
  {
   "cell_type": "code",
   "execution_count": 50,
   "metadata": {},
   "outputs": [
    {
     "name": "stderr",
     "output_type": "stream",
     "text": [
      "/tmp/ipykernel_6328/1299566479.py:1: FutureWarning: The default value of observed=False is deprecated and will change to observed=True in a future version of pandas. Specify observed=False to silence this warning and retain the current behavior\n",
      "  pivot_median_income = filtered_df.pivot_table(\n"
     ]
    },
    {
     "data": {
      "text/html": [
       "<div>\n",
       "<style scoped>\n",
       "    .dataframe tbody tr th:only-of-type {\n",
       "        vertical-align: middle;\n",
       "    }\n",
       "\n",
       "    .dataframe tbody tr th {\n",
       "        vertical-align: top;\n",
       "    }\n",
       "\n",
       "    .dataframe thead th {\n",
       "        text-align: right;\n",
       "    }\n",
       "</style>\n",
       "<table border=\"1\" class=\"dataframe\">\n",
       "  <thead>\n",
       "    <tr style=\"text-align: right;\">\n",
       "      <th>home</th>\n",
       "      <th>MORTGAGE</th>\n",
       "      <th>RENT</th>\n",
       "    </tr>\n",
       "    <tr>\n",
       "      <th>intent</th>\n",
       "      <th></th>\n",
       "      <th></th>\n",
       "    </tr>\n",
       "  </thead>\n",
       "  <tbody>\n",
       "    <tr>\n",
       "      <th>DEBTCONSOLIDATION</th>\n",
       "      <td>162000.0</td>\n",
       "      <td>74034.0</td>\n",
       "    </tr>\n",
       "    <tr>\n",
       "      <th>PERSONAL</th>\n",
       "      <td>160000.0</td>\n",
       "      <td>77825.0</td>\n",
       "    </tr>\n",
       "  </tbody>\n",
       "</table>\n",
       "</div>"
      ],
      "text/plain": [
       "home               MORTGAGE     RENT\n",
       "intent                              \n",
       "DEBTCONSOLIDATION  162000.0  74034.0\n",
       "PERSONAL           160000.0  77825.0"
      ]
     },
     "execution_count": 50,
     "metadata": {},
     "output_type": "execute_result"
    }
   ],
   "source": [
    "pivot_median_income = filtered_df.pivot_table(\n",
    "    index='intent',\n",
    "    columns='home',\n",
    "    values='income',\n",
    "    aggfunc='median'\n",
    ")\n",
    "\n",
    "(pivot_median_income)"
   ]
  },
  {
   "cell_type": "markdown",
   "metadata": {
    "id": "y-qpTuhTvon3"
   },
   "source": [
    "Здесь же я несколько раз использовал pivot_table() с разными агрегирующими функциями 'mean', 'max', 'median', чтобы посмотреть на доходы заемщиков под разными углами - средний доход, максимальный и медианный в разрезе целей кредита и типа жилья.\n",
    "\n",
    "Я рассчитал среднюю сумму кредита для каждой цели и выбрал две цели с наибольшими значениями. Затем я рассчитал медианную сумму кредита для каждого статуса домовладения (home) и выбрал два статуса с наибольшими значениями. \n",
    "\n",
    "Я отфильтровал исходную таблицу, оставив только строки, которые попадают в топ-2 по цели И в топ-2 по статусу домовладения.\n",
    "\n",
    "Анализ результов:\n",
    "\n",
    "1. Явное преимущество ипотечников:\n",
    "По всем показателям (кроме одного) заемщики с ипотекой имеют более высокий доход. Особенно заметна разница в категории DEBTCONSOLIDATION: средний доход ипотечников выше, чем у арендаторов. Это логично, так как наличие ипотеки обычно свидетельствует о более стабильном финансовом положении.\n",
    "\n",
    "2. Интересное исключение:\n",
    "В категории PERSONAL максимальный доход у арендаторов (280,000) превышает максимальный доход ипотечников (200,000). Это может указывать на то, что некоторые высокооплачиваемые люди сознательно выбирают аренду, возможно, из-за мобильности или инвестиционных стратегий\n",
    "\n",
    "3. Разница в профиле заемщиков:\n",
    "DEBTCONSOLIDATION: привлекает более обеспеченных заемщиков (особенно с ипотекой)\n",
    "PERSONAL: более демократичная цель, с меньшим разрывом в доходах между группами\n",
    "\n",
    "4. Медиана vs Среднее:\n",
    "В категории DEBTCONSOLIDATION медиана превышает среднее значение, что указывает на смещение распределения в сторону более высоких доходов\n",
    "В категории PERSONAL аналогичная тенденция, особенно выраженная у ипотечников\n",
    "\n"
   ]
  }
 ],
 "metadata": {
  "colab": {
   "provenance": []
  },
  "kernelspec": {
   "display_name": "Python 3 (ipykernel)",
   "language": "python",
   "name": "python3"
  },
  "language_info": {
   "codemirror_mode": {
    "name": "ipython",
    "version": 3
   },
   "file_extension": ".py",
   "mimetype": "text/x-python",
   "name": "python",
   "nbconvert_exporter": "python",
   "pygments_lexer": "ipython3",
   "version": "3.12.3"
  }
 },
 "nbformat": 4,
 "nbformat_minor": 4
}
